{
 "cells": [
  {
   "cell_type": "markdown",
   "metadata": {},
   "source": [
    "# Analyse conditionnelle"
   ]
  },
  {
   "cell_type": "markdown",
   "metadata": {},
   "source": [
    "## Exercice 1"
   ]
  },
  {
   "cell_type": "code",
   "execution_count": 7,
   "metadata": {},
   "outputs": [
    {
     "name": "stdout",
     "output_type": "stream",
     "text": [
      "bravo extraordinaire\n"
     ]
    }
   ],
   "source": [
    "n = int(input(\"Entrée la note de l'étudiant:\"))\n",
    "if n >19:\n",
    "    print(\"bravo extraordinaire\")\n",
    "elif n >= 16 and n <= 19:\n",
    "    print(\"très bien\")\n",
    "elif  n >= 14 and n < 16:\n",
    "    print(\"bien\")\n",
    "elif  n >= 12 and n < 14:\n",
    "    print(\"assez bien\")\n",
    "elif  n > 10 and n < 12:\n",
    "    print(\"correct\")\n",
    "elif  n >=8 and n < 19:\n",
    "    print(\"insuffisant\")\n",
    "elif  n >= 5 and n < 8:\n",
    "    print(\"très insuffisant\")\n",
    "else:\n",
    "    print('Eliminatoire')\n",
    "\n",
    "\n"
   ]
  },
  {
   "cell_type": "markdown",
   "metadata": {},
   "source": [
    "## Exercice 2"
   ]
  },
  {
   "cell_type": "code",
   "execution_count": 5,
   "metadata": {},
   "outputs": [
    {
     "name": "stdout",
     "output_type": "stream",
     "text": [
      "N est divisible par 3 et par 5\n"
     ]
    }
   ],
   "source": [
    "N = int(input(\"Donne un nombre entier de ton choix\"))\n",
    "if N%3==0 and N%5 ==0:\n",
    "    print (\"N est divisible par 3 et par 5\".format(N))\n",
    "elif N%3==0 and N%5!=0:\n",
    "    print (\"N est divisible par 3 mais pas par 5\".format(N))\n",
    "elif N%3 !=0 and N%5 == 0:\n",
    "    print(\"N est divisible par 5 mais pas par 3\".format(N))\n",
    "else:\n",
    "    print(\"{} n'est divisible ni par 3 ni par 5\".format(N))     "
   ]
  },
  {
   "cell_type": "markdown",
   "metadata": {},
   "source": [
    "## Exercie 3 : Moyenne pondérée et olympique"
   ]
  },
  {
   "cell_type": "code",
   "execution_count": null,
   "metadata": {},
   "outputs": [],
   "source": [
    "\n",
    "    "
   ]
  },
  {
   "cell_type": "markdown",
   "metadata": {},
   "source": [
    "## Exercice 4: ubduce de Masse Corporelle"
   ]
  },
  {
   "cell_type": "code",
   "execution_count": 15,
   "metadata": {},
   "outputs": [
    {
     "name": "stdout",
     "output_type": "stream",
     "text": [
      "62 1.56 25.0\n",
      "Poids modérément excessif\n"
     ]
    }
   ],
   "source": [
    "poids = int(input(\"Quel est ton poids en Kg?:\"))\n",
    "taille = float(input(\"Quelle est ta taille?:\"))\n",
    "IMC = poids//taille**2\n",
    "print(poids,taille,IMC)\n",
    "if IMC<19:\n",
    "    print(\"poids insuffisant\")\n",
    "elif IMC >=19 and IMC <=24:\n",
    "    print(\"Poids idéal\")\n",
    "elif IMC >=25 and IMC <=27:\n",
    "    print(\"Poids modérément excessif\")\n",
    "else:\n",
    "    print(\"poids excessif\")"
   ]
  },
  {
   "cell_type": "code",
   "execution_count": 16,
   "metadata": {},
   "outputs": [
    {
     "name": "stdout",
     "output_type": "stream",
     "text": [
      "62 1.56 25.0\n",
      "Poids modérément excessif\n"
     ]
    }
   ],
   "source": [
    "IMC = poids//taille**2\n",
    "print(poids,taille,IMC)\n",
    "if IMC<19:\n",
    "    print(\"poids insuffisant\")\n",
    "elif IMC <=24:\n",
    "    print(\"Poids idéal\")\n",
    "elif IMC <=27:\n",
    "    print(\"Poids modérément excessif\")\n",
    "else:\n",
    "    print(\"poids excessif\")"
   ]
  }
 ],
 "metadata": {
  "kernelspec": {
   "display_name": "Python 3",
   "language": "python",
   "name": "python3"
  },
  "language_info": {
   "codemirror_mode": {
    "name": "ipython",
    "version": 3
   },
   "file_extension": ".py",
   "mimetype": "text/x-python",
   "name": "python",
   "nbconvert_exporter": "python",
   "pygments_lexer": "ipython3",
   "version": "3.12.4"
  }
 },
 "nbformat": 4,
 "nbformat_minor": 2
}
