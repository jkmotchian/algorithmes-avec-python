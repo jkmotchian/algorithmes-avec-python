{
 "cells": [
  {
   "cell_type": "markdown",
   "metadata": {},
   "source": [
    "## Exercice 1"
   ]
  },
  {
   "cell_type": "markdown",
   "metadata": {},
   "source": [
    "- script de saisie de d'affichage"
   ]
  },
  {
   "cell_type": "code",
   "execution_count": 5,
   "metadata": {},
   "outputs": [
    {
     "name": "stdout",
     "output_type": "stream",
     "text": [
      "Bonjour Jean Kevin MOTCHIAN comment allez-vous?\n"
     ]
    }
   ],
   "source": [
    "nom = input(\"quel est votre nom ?\" )\n",
    "print(\"Bonjour {} comment allez-vous?\".format(nom))\n"
   ]
  },
  {
   "cell_type": "code",
   "execution_count": 7,
   "metadata": {},
   "outputs": [
    {
     "name": "stdout",
     "output_type": "stream",
     "text": [
      "Plus que 75 ans pour être centenanre !!!\n"
     ]
    }
   ],
   "source": [
    "age = input(\"Donnez-moi votre âge ?\")\n",
    "difference_age = 100 - int(age)\n",
    "print(\"Plus que {} ans pour être centenanre !!!\".format(difference_age))"
   ]
  },
  {
   "cell_type": "markdown",
   "metadata": {},
   "source": [
    "## Exercice 2"
   ]
  },
  {
   "cell_type": "code",
   "execution_count": 78,
   "metadata": {},
   "outputs": [
    {
     "name": "stdout",
     "output_type": "stream",
     "text": [
      "*\n",
      "*s*a*l*u*t\n",
      "* s * a * l * u * t\n"
     ]
    }
   ],
   "source": [
    "ch = \"*\"\n",
    "print(ch)\n",
    "print(\"{}s{}a{}l{}u{}t\".format(ch,ch,ch,ch,ch))\n",
    "ch = \"salut\" #solution avec espace \n",
    "print('*', ch[0], '*', ch[1], '*', ch[2], '*', ch[3], '*', ch[4])"
   ]
  },
  {
   "cell_type": "markdown",
   "metadata": {},
   "source": [
    "## Exercie 3"
   ]
  },
  {
   "cell_type": "markdown",
   "metadata": {},
   "source": [
    "- Calcul des termes d'une suite"
   ]
  },
  {
   "cell_type": "code",
   "execution_count": 27,
   "metadata": {},
   "outputs": [
    {
     "name": "stdout",
     "output_type": "stream",
     "text": [
      "U0= 1\n",
      "U1= -5\n",
      "U1= -17\n"
     ]
    }
   ],
   "source": [
    "#U =int(input(\"donne une valeur à U0:\"))\n",
    "U0=1\n",
    "U1 = 2*U0-7\n",
    "U2 = 2*U1-7\n",
    "print(\"U0\"+\"= {}\".format(U0))\n",
    "print(\"U1\"+\"= {}\".format(U1))\n",
    "print(\"U1\"+\"= {}\".format(U2))"
   ]
  },
  {
   "cell_type": "markdown",
   "metadata": {},
   "source": [
    "## Exercice 4"
   ]
  },
  {
   "cell_type": "markdown",
   "metadata": {},
   "source": [
    "- calcul du volume d'un parallélépipède"
   ]
  },
  {
   "cell_type": "code",
   "execution_count": 79,
   "metadata": {},
   "outputs": [
    {
     "name": "stdout",
     "output_type": "stream",
     "text": [
      "le volume du parallélépipède est: 1500\n",
      "volume = 450\n"
     ]
    }
   ],
   "source": [
    "largeur = 5\n",
    "longueur = 15\n",
    "profondeur = 20\n",
    "volume = longueur*largeur*profondeur\n",
    "\n",
    "print('le volume du parallélépipède est: {}'.format(volume))\n",
    "\n",
    "larg, Long, haut = 10, 15, 3\n",
    "volume = larg*Long*haut\n",
    "print(\"volume =\", volume)"
   ]
  },
  {
   "cell_type": "markdown",
   "metadata": {},
   "source": [
    "## Exercie 5"
   ]
  },
  {
   "cell_type": "code",
   "execution_count": 88,
   "metadata": {},
   "outputs": [
    {
     "name": "stdout",
     "output_type": "stream",
     "text": [
      "seconde 31536000, minutes 0.4166666666666667, heure 0.006944444444444445, jour 0.0002893518518518519, mois 9.645061728395063e-06, annees 7.927447995941148e-07\n"
     ]
    }
   ],
   "source": [
    "durer_en_seconde = int(input('entrer le nombre de secode:'))\n",
    "minutes = durer_en_seconde/60\n",
    "heure = minutes/60\n",
    "jour = heure /24\n",
    "mois = jour/30\n",
    "annees = jour / 365\n",
    "\n",
    "print(\"seconde {}, minutes {}, heure {}, jour {}, mois {}, annees {}\".format(seconde, minutes, heure, jour, mois, annees))"
   ]
  },
  {
   "cell_type": "code",
   "execution_count": 84,
   "metadata": {},
   "outputs": [
    {
     "name": "stdout",
     "output_type": "stream",
     "text": [
      "durée =  210 s =  0.0 jours 0.0 h 3.0 mn 30 s\n"
     ]
    }
   ],
   "source": [
    "ts = 210 #durée en seconde  \n",
    "s = ts%60 #nb seconde  \n",
    "tm = ts - s  \n",
    "mn = (tm/60)%60 # nb minute  \n",
    "th = ts-s-60*mn  \n",
    "h = (th/(60*60))%24 # nb heure  \n",
    "tj = ts - s - mn*60 - h*60*60  \n",
    "j = (tj/(60*60*24))%365 #nb jourta  \n",
    "print(\"durée = \", ts, \"s = \", j, \"jours\", h, \"h\", mn, \"mn\", s, \"s\")"
   ]
  },
  {
   "cell_type": "markdown",
   "metadata": {},
   "source": [
    "## Exercice 6"
   ]
  },
  {
   "cell_type": "code",
   "execution_count": 42,
   "metadata": {},
   "outputs": [
    {
     "name": "stdout",
     "output_type": "stream",
     "text": [
      "les fautes\n"
     ]
    }
   ],
   "source": [
    "mot = \"les fotes\"\n",
    "print(mot[:5]+'au'+mot[6:])"
   ]
  },
  {
   "cell_type": "code",
   "execution_count": 52,
   "metadata": {},
   "outputs": [
    {
     "name": "stdout",
     "output_type": "stream",
     "text": [
      "salut*le*monde\n"
     ]
    }
   ],
   "source": [
    "x = \"salut le monde\"\n",
    "print(x[:5] + '*' +x[6:8]+'*'+x[9:])"
   ]
  },
  {
   "cell_type": "code",
   "execution_count": 76,
   "metadata": {},
   "outputs": [
    {
     "name": "stdout",
     "output_type": "stream",
     "text": [
      "Mes décisions sont parfois difficiles mais je dois réussir\n",
      "es décisions sont parfois difficiles mais je dois réussi\n",
      "s décisions sont parfois difficiles mais je dois réuss\n",
      "Mes décisions sont parfois dificiles mais je dois réussir\n"
     ]
    }
   ],
   "source": [
    "x = 'Mes décisions sont parfois difficiles mais je dois réussir'\n",
    "moitier=int(len(x)/2)\n",
    "print(x)\n",
    "print(x[1:len(x)-1])\n",
    "print(x[2:len(x)-2])\n",
    "print(x[0:moitier] + x[moitier +1: ])"
   ]
  },
  {
   "cell_type": "code",
   "execution_count": 87,
   "metadata": {},
   "outputs": [
    {
     "name": "stdout",
     "output_type": "stream",
     "text": [
      "x moins premier et dernier car =  es décisions sont parfois difficiles mais je dois réussi\n",
      "x moins deux premier et deux dernier =  s décisions sont parfois difficiles mais je dois réuss\n",
      "x moins central =  Mes décisions sont parfois dificiles mais je dois réussir\n"
     ]
    }
   ],
   "source": [
    "print( \"x moins premier et dernier car = \", x[ 1 : -1 ])\n",
    "print( \"x moins deux premier et deux dernier = \", x[ 2 : -2] )\n",
    "print( \"x moins central = \", x[:len(x) // 2]+x[len(x) // 2 + 1 : ])"
   ]
  },
  {
   "cell_type": "code",
   "execution_count": 89,
   "metadata": {},
   "outputs": [],
   "source": [
    "jours = ['lundi', 'mardi',' mercredi', 'jeudi', 44.5, 54]"
   ]
  },
  {
   "cell_type": "code",
   "execution_count": 95,
   "metadata": {},
   "outputs": [],
   "source": [
    "jours[3] = jours[3]  + \" Vendredi\""
   ]
  },
  {
   "cell_type": "code",
   "execution_count": 96,
   "metadata": {},
   "outputs": [
    {
     "data": {
      "text/plain": [
       "['lundi', 'mardi', ' mercredi', 'jeudiVendredi Vendredi', 44.5, 54]"
      ]
     },
     "execution_count": 96,
     "metadata": {},
     "output_type": "execute_result"
    }
   ],
   "source": [
    "jours"
   ]
  },
  {
   "cell_type": "code",
   "execution_count": 97,
   "metadata": {},
   "outputs": [
    {
     "data": {
      "text/plain": [
       "['j', 'e', ' ', 'm', 'a', 'n', 'g', 'e', ' ', 'b', 'i', 'e', 'n']"
      ]
     },
     "execution_count": 97,
     "metadata": {},
     "output_type": "execute_result"
    }
   ],
   "source": [
    "list(\"je mange bien\")"
   ]
  },
  {
   "cell_type": "code",
   "execution_count": 108,
   "metadata": {},
   "outputs": [
    {
     "name": "stdout",
     "output_type": "stream",
     "text": [
      "[]\n"
     ]
    }
   ],
   "source": [
    "liste = range(2,2)\n",
    "print(list(liste))"
   ]
  },
  {
   "cell_type": "code",
   "execution_count": 107,
   "metadata": {},
   "outputs": [
    {
     "name": "stdout",
     "output_type": "stream",
     "text": [
      "[0, 1]\n"
     ]
    },
    {
     "data": {
      "text/plain": [
       "range"
      ]
     },
     "execution_count": 107,
     "metadata": {},
     "output_type": "execute_result"
    }
   ],
   "source": [
    "liste = range(2)\n",
    "print(list(liste))\n",
    "type(liste)"
   ]
  },
  {
   "cell_type": "code",
   "execution_count": 111,
   "metadata": {},
   "outputs": [],
   "source": [
    "liste = list(range(0,10,2))"
   ]
  },
  {
   "cell_type": "code",
   "execution_count": 115,
   "metadata": {},
   "outputs": [
    {
     "data": {
      "text/plain": [
       "[12, 3, 4, 6, 8]"
      ]
     },
     "execution_count": 115,
     "metadata": {},
     "output_type": "execute_result"
    }
   ],
   "source": [
    "liste[0:2] = [12,3]\n",
    "liste"
   ]
  },
  {
   "cell_type": "code",
   "execution_count": 118,
   "metadata": {},
   "outputs": [
    {
     "name": "stdout",
     "output_type": "stream",
     "text": [
      "[12, 3, 4, 30, 23, 24, 56]\n"
     ]
    }
   ],
   "source": [
    "liste[3:] = [30,23,24,56]\n",
    "print(liste)"
   ]
  },
  {
   "cell_type": "code",
   "execution_count": 120,
   "metadata": {},
   "outputs": [
    {
     "name": "stdout",
     "output_type": "stream",
     "text": [
      "[12, 30]\n"
     ]
    }
   ],
   "source": [
    "liste[1:] = [30]\n",
    "print(liste)"
   ]
  },
  {
   "cell_type": "code",
   "execution_count": 123,
   "metadata": {},
   "outputs": [
    {
     "data": {
      "text/plain": [
       "['__add__',\n",
       " '__class__',\n",
       " '__class_getitem__',\n",
       " '__contains__',\n",
       " '__delattr__',\n",
       " '__delitem__',\n",
       " '__dir__',\n",
       " '__doc__',\n",
       " '__eq__',\n",
       " '__format__',\n",
       " '__ge__',\n",
       " '__getattribute__',\n",
       " '__getitem__',\n",
       " '__getstate__',\n",
       " '__gt__',\n",
       " '__hash__',\n",
       " '__iadd__',\n",
       " '__imul__',\n",
       " '__init__',\n",
       " '__init_subclass__',\n",
       " '__iter__',\n",
       " '__le__',\n",
       " '__len__',\n",
       " '__lt__',\n",
       " '__mul__',\n",
       " '__ne__',\n",
       " '__new__',\n",
       " '__reduce__',\n",
       " '__reduce_ex__',\n",
       " '__repr__',\n",
       " '__reversed__',\n",
       " '__rmul__',\n",
       " '__setattr__',\n",
       " '__setitem__',\n",
       " '__sizeof__',\n",
       " '__str__',\n",
       " '__subclasshook__',\n",
       " 'append',\n",
       " 'clear',\n",
       " 'copy',\n",
       " 'count',\n",
       " 'extend',\n",
       " 'index',\n",
       " 'insert',\n",
       " 'pop',\n",
       " 'remove',\n",
       " 'reverse',\n",
       " 'sort']"
      ]
     },
     "execution_count": 123,
     "metadata": {},
     "output_type": "execute_result"
    }
   ],
   "source": [
    "dir(list)"
   ]
  },
  {
   "cell_type": "code",
   "execution_count": 128,
   "metadata": {},
   "outputs": [
    {
     "name": "stdout",
     "output_type": "stream",
     "text": [
      "[[0, 0, 0, 0], [1, 2, 3, 4], [0, 2, 3, 4]]\n"
     ]
    },
    {
     "data": {
      "text/plain": [
       "[0, 0, 0, 0]"
      ]
     },
     "execution_count": 128,
     "metadata": {},
     "output_type": "execute_result"
    }
   ],
   "source": [
    "grille = [[0,0,0,0],[1,2,3,4],[0,2,3,4]]\n",
    "print(grille)\n",
    "grille[0]"
   ]
  },
  {
   "cell_type": "markdown",
   "metadata": {},
   "source": [
    "- **Iteration avec la boucle for**"
   ]
  },
  {
   "cell_type": "code",
   "execution_count": 132,
   "metadata": {},
   "outputs": [
    {
     "name": "stdout",
     "output_type": "stream",
     "text": [
      "285\n"
     ]
    }
   ],
   "source": [
    "res = 0\n",
    "n = 10\n",
    "for i in range(n): #[0,1,2,3,4,5,6,7,8,9]\n",
    "    res = res + i**2\n",
    "print(res)"
   ]
  },
  {
   "cell_type": "markdown",
   "metadata": {},
   "source": [
    "1. boucle for : parcourir des indices d'une liste"
   ]
  },
  {
   "cell_type": "code",
   "execution_count": 134,
   "metadata": {},
   "outputs": [
    {
     "name": "stdout",
     "output_type": "stream",
     "text": [
      "p*y*t*h*o*n* *e*s*t* *l*e* *m*a*i*l*l*e*u*r*\n"
     ]
    }
   ],
   "source": [
    "# une chaine entrecoupé d'étoile\n",
    "ch, etoile, resultat = \"python est le mailleur\", \"*\", \"\"\n",
    "for i in range(0, len(ch)):\n",
    "    resultat = resultat + ch[i] + etoile\n",
    "print(resultat)"
   ]
  },
  {
   "cell_type": "markdown",
   "metadata": {},
   "source": [
    "2. boucle for : parcourir les éléments d'une liste"
   ]
  },
  {
   "cell_type": "code",
   "execution_count": 136,
   "metadata": {},
   "outputs": [
    {
     "name": "stdout",
     "output_type": "stream",
     "text": [
      "p*y*t*h*o*n* *e*s*t* *l*e* *m*a*i*l*l*e*u*r*\n"
     ]
    }
   ],
   "source": [
    "# reprenons l'exemple precedent: dans ce cas le range ne sert plus à rien\n",
    "resultat = \"\"\n",
    "for x in ch:\n",
    "    resultat = resultat+x+etoile\n",
    "print(resultat)"
   ]
  },
  {
   "cell_type": "markdown",
   "metadata": {},
   "source": [
    "2. Construction de liste avec for"
   ]
  },
  {
   "cell_type": "code",
   "execution_count": null,
   "metadata": {},
   "outputs": [],
   "source": []
  },
  {
   "cell_type": "code",
   "execution_count": null,
   "metadata": {},
   "outputs": [],
   "source": []
  }
 ],
 "metadata": {
  "kernelspec": {
   "display_name": "Python 3",
   "language": "python",
   "name": "python3"
  },
  "language_info": {
   "codemirror_mode": {
    "name": "ipython",
    "version": 3
   },
   "file_extension": ".py",
   "mimetype": "text/x-python",
   "name": "python",
   "nbconvert_exporter": "python",
   "pygments_lexer": "ipython3",
   "version": "3.12.4"
  }
 },
 "nbformat": 4,
 "nbformat_minor": 2
}
