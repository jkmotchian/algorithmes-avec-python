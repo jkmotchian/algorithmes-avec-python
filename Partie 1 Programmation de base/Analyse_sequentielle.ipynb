{
 "cells": [
  {
   "cell_type": "markdown",
   "metadata": {},
   "source": [
    "## Exercice 1"
   ]
  },
  {
   "cell_type": "markdown",
   "metadata": {},
   "source": [
    "- script de saisie de d'affichage"
   ]
  },
  {
   "cell_type": "code",
   "execution_count": 5,
   "metadata": {},
   "outputs": [
    {
     "name": "stdout",
     "output_type": "stream",
     "text": [
      "Bonjour Jean Kevin MOTCHIAN comment allez-vous?\n"
     ]
    }
   ],
   "source": [
    "nom = input(\"quel est votre nom ?\" )\n",
    "print(\"Bonjour {} comment allez-vous?\".format(nom))\n"
   ]
  },
  {
   "cell_type": "code",
   "execution_count": 7,
   "metadata": {},
   "outputs": [
    {
     "name": "stdout",
     "output_type": "stream",
     "text": [
      "Plus que 75 ans pour être centenanre !!!\n"
     ]
    }
   ],
   "source": [
    "age = input(\"Donnez-moi votre âge ?\")\n",
    "difference_age = 100 - int(age)\n",
    "print(\"Plus que {} ans pour être centenanre !!!\".format(difference_age))"
   ]
  },
  {
   "cell_type": "markdown",
   "metadata": {},
   "source": [
    "## Exercice 2"
   ]
  },
  {
   "cell_type": "code",
   "execution_count": 78,
   "metadata": {},
   "outputs": [
    {
     "name": "stdout",
     "output_type": "stream",
     "text": [
      "*\n",
      "*s*a*l*u*t\n",
      "* s * a * l * u * t\n"
     ]
    }
   ],
   "source": [
    "ch = \"*\"\n",
    "print(ch)\n",
    "print(\"{}s{}a{}l{}u{}t\".format(ch,ch,ch,ch,ch))\n",
    "ch = \"salut\" #solution avec espace \n",
    "print('*', ch[0], '*', ch[1], '*', ch[2], '*', ch[3], '*', ch[4])"
   ]
  },
  {
   "cell_type": "markdown",
   "metadata": {},
   "source": [
    "## Exercie 3"
   ]
  },
  {
   "cell_type": "markdown",
   "metadata": {},
   "source": [
    "- Calcul des termes d'une suite"
   ]
  },
  {
   "cell_type": "code",
   "execution_count": 27,
   "metadata": {},
   "outputs": [
    {
     "name": "stdout",
     "output_type": "stream",
     "text": [
      "U0= 1\n",
      "U1= -5\n",
      "U1= -17\n"
     ]
    }
   ],
   "source": [
    "#U =int(input(\"donne une valeur à U0:\"))\n",
    "U0=1\n",
    "U1 = 2*U0-7\n",
    "U2 = 2*U1-7\n",
    "print(\"U0\"+\"= {}\".format(U0))\n",
    "print(\"U1\"+\"= {}\".format(U1))\n",
    "print(\"U1\"+\"= {}\".format(U2))"
   ]
  },
  {
   "cell_type": "markdown",
   "metadata": {},
   "source": [
    "## Exercice 4"
   ]
  },
  {
   "cell_type": "markdown",
   "metadata": {},
   "source": [
    "- calcul du volume d'un parallélépipède"
   ]
  },
  {
   "cell_type": "code",
   "execution_count": 79,
   "metadata": {},
   "outputs": [
    {
     "name": "stdout",
     "output_type": "stream",
     "text": [
      "le volume du parallélépipède est: 1500\n",
      "volume = 450\n"
     ]
    }
   ],
   "source": [
    "largeur = 5\n",
    "longueur = 15\n",
    "profondeur = 20\n",
    "volume = longueur*largeur*profondeur\n",
    "\n",
    "print('le volume du parallélépipède est: {}'.format(volume))\n",
    "\n",
    "larg, Long, haut = 10, 15, 3\n",
    "volume = larg*Long*haut\n",
    "print(\"volume =\", volume)"
   ]
  },
  {
   "cell_type": "markdown",
   "metadata": {},
   "source": [
    "## Exercie 5"
   ]
  },
  {
   "cell_type": "code",
   "execution_count": 83,
   "metadata": {},
   "outputs": [
    {
     "ename": "ValueError",
     "evalue": "invalid literal for int() with base 10: ''",
     "output_type": "error",
     "traceback": [
      "\u001b[1;31m---------------------------------------------------------------------------\u001b[0m",
      "\u001b[1;31mValueError\u001b[0m                                Traceback (most recent call last)",
      "Cell \u001b[1;32mIn[83], line 1\u001b[0m\n\u001b[1;32m----> 1\u001b[0m durer_en_seconde \u001b[38;5;241m=\u001b[39m \u001b[38;5;28mint\u001b[39m(\u001b[38;5;28minput\u001b[39m(\u001b[38;5;124m'\u001b[39m\u001b[38;5;124mentrer le nombre de secode:\u001b[39m\u001b[38;5;124m'\u001b[39m))\n\u001b[0;32m      2\u001b[0m minutes \u001b[38;5;241m=\u001b[39m seconde\u001b[38;5;241m/\u001b[39m\u001b[38;5;241m60\u001b[39m\n\u001b[0;32m      3\u001b[0m heure \u001b[38;5;241m=\u001b[39m minutes\u001b[38;5;241m/\u001b[39m\u001b[38;5;241m60\u001b[39m\n",
      "\u001b[1;31mValueError\u001b[0m: invalid literal for int() with base 10: ''"
     ]
    }
   ],
   "source": [
    "durer_en_seconde = int(input('entrer le nombre de secode:'))\n",
    "minutes = durer_en_seconde/60\n",
    "heure = minutes/60\n",
    "jour = heure /24\n",
    "mois = jour/30\n",
    "annees = jour / 365\n",
    "\n",
    "print(\"seconde {}, minutes {}, heure {}, jour {}, mois {}, annees {}\".format(seconde, minutes, heure, jour, mois, annees))"
   ]
  },
  {
   "cell_type": "code",
   "execution_count": 84,
   "metadata": {},
   "outputs": [
    {
     "name": "stdout",
     "output_type": "stream",
     "text": [
      "durée =  210 s =  0.0 jours 0.0 h 3.0 mn 30 s\n"
     ]
    }
   ],
   "source": [
    "ts = 210 #durée en seconde  \n",
    "s = ts%60 #nb seconde  \n",
    "tm = ts - s  \n",
    "mn = (tm/60)%60 # nb minute  \n",
    "th = ts-s-60*mn  \n",
    "h = (th/(60*60))%24 # nb heure  \n",
    "tj = ts - s - mn*60 - h*60*60  \n",
    "j = (tj/(60*60*24))%365 #nb jourta  \n",
    "print(\"durée = \", ts, \"s = \", j, \"jours\", h, \"h\", mn, \"mn\", s, \"s\")"
   ]
  },
  {
   "cell_type": "markdown",
   "metadata": {},
   "source": [
    "## Exercice 6"
   ]
  },
  {
   "cell_type": "code",
   "execution_count": 42,
   "metadata": {},
   "outputs": [
    {
     "name": "stdout",
     "output_type": "stream",
     "text": [
      "les fautes\n"
     ]
    }
   ],
   "source": [
    "mot = \"les fotes\"\n",
    "print(mot[:5]+'au'+mot[6:])"
   ]
  },
  {
   "cell_type": "code",
   "execution_count": 52,
   "metadata": {},
   "outputs": [
    {
     "name": "stdout",
     "output_type": "stream",
     "text": [
      "salut*le*monde\n"
     ]
    }
   ],
   "source": [
    "x = \"salut le monde\"\n",
    "print(x[:5] + '*' +x[6:8]+'*'+x[9:])"
   ]
  },
  {
   "cell_type": "code",
   "execution_count": 76,
   "metadata": {},
   "outputs": [
    {
     "name": "stdout",
     "output_type": "stream",
     "text": [
      "Mes décisions sont parfois difficiles mais je dois réussir\n",
      "es décisions sont parfois difficiles mais je dois réussi\n",
      "s décisions sont parfois difficiles mais je dois réuss\n",
      "Mes décisions sont parfois dificiles mais je dois réussir\n"
     ]
    }
   ],
   "source": [
    "x = 'Mes décisions sont parfois difficiles mais je dois réussir'\n",
    "moitier=int(len(x)/2)\n",
    "print(x)\n",
    "print(x[1:len(x)-1])\n",
    "print(x[2:len(x)-2])\n",
    "print(x[0:moitier] + x[moitier +1: ])"
   ]
  },
  {
   "cell_type": "code",
   "execution_count": 87,
   "metadata": {},
   "outputs": [
    {
     "name": "stdout",
     "output_type": "stream",
     "text": [
      "x moins premier et dernier car =  es décisions sont parfois difficiles mais je dois réussi\n",
      "x moins deux premier et deux dernier =  s décisions sont parfois difficiles mais je dois réuss\n",
      "x moins central =  Mes décisions sont parfois dificiles mais je dois réussir\n"
     ]
    }
   ],
   "source": [
    "print( \"x moins premier et dernier car = \", x[ 1 : -1 ])\n",
    "print( \"x moins deux premier et deux dernier = \", x[ 2 : -2] )\n",
    "print( \"x moins central = \", x[:len(x) // 2]+x[len(x) // 2 + 1 : ])"
   ]
  }
 ],
 "metadata": {
  "kernelspec": {
   "display_name": "Python 3",
   "language": "python",
   "name": "python3"
  },
  "language_info": {
   "codemirror_mode": {
    "name": "ipython",
    "version": 3
   },
   "file_extension": ".py",
   "mimetype": "text/x-python",
   "name": "python",
   "nbconvert_exporter": "python",
   "pygments_lexer": "ipython3",
   "version": "3.12.4"
  }
 },
 "nbformat": 4,
 "nbformat_minor": 2
}
